{
 "cells": [
  {
   "cell_type": "code",
   "execution_count": 1,
   "metadata": {},
   "outputs": [
    {
     "name": "stderr",
     "output_type": "stream",
     "text": [
      "Using TensorFlow backend.\n"
     ]
    }
   ],
   "source": [
    "import argparse, csv\n",
    "from tensorflow import keras\n",
    "from tensorflow.python.keras.models import model_from_json\n",
    "from keras.utils import to_categorical\n",
    "import pandas as pd\n",
    "\n",
    "from tools.metadata_tools import *"
   ]
  },
  {
   "cell_type": "code",
   "execution_count": 2,
   "metadata": {},
   "outputs": [],
   "source": [
    "test = '../Results/json_detection'\n",
    "train = '../Results/json_detection/train'\n",
    "\n",
    "matrix_metadata = metadata_to_matrix(test, \"json\")\n",
    "test_data = matrix_metadata[:,:14].astype(np.float32)\n",
    "test_label = to_categorical(matrix_metadata[:,14].astype(np.float32).astype(np.int8))\n",
    "\n",
    "matrix_metadata = metadata_to_matrix(train, \"json\")\n",
    "train_data = matrix_metadata[:,:14].astype(np.float32)\n",
    "train_label = to_categorical(matrix_metadata[:,14].astype(np.float32).astype(np.int8))"
   ]
  },
  {
   "cell_type": "code",
   "execution_count": 3,
   "metadata": {},
   "outputs": [],
   "source": [
    "data = np.vstack((train_data,test_data))"
   ]
  },
  {
   "cell_type": "code",
   "execution_count": 4,
   "metadata": {},
   "outputs": [],
   "source": [
    "label = np.vstack((train_label,test_label))"
   ]
  },
  {
   "cell_type": "code",
   "execution_count": 12,
   "metadata": {},
   "outputs": [],
   "source": [
    "from monumai.monument import Monument\n",
    "names = [el for sublist in list(Monument.ELEMENT_DIC.values()) for el in sublist]\n",
    "indices_style = {}\n",
    "for style in Monument.TRUE_ELEMENT_DIC:\n",
    "    indices_style[style] = []\n",
    "\n",
    "for style, el in Monument.TRUE_ELEMENT_DIC.items():\n",
    "    for sub_el in el:\n",
    "        indices_style[style].append(names.index(sub_el))\n",
    "\n",
    "for style in Monument.TRUE_ELEMENT_DIC:\n",
    "    indices_style[style] = set(indices_style[style])       "
   ]
  },
  {
   "cell_type": "code",
   "execution_count": 13,
   "metadata": {},
   "outputs": [],
   "source": [
    "style_names = list(Monument.TRUE_ELEMENT_DIC.keys())"
   ]
  },
  {
   "cell_type": "code",
   "execution_count": 14,
   "metadata": {},
   "outputs": [],
   "source": [
    "representation_occurences = np.zeros((data.shape[1],label.shape[1]))\n",
    "representation_values = np.zeros((data.shape[1],label.shape[1]))"
   ]
  },
  {
   "cell_type": "code",
   "execution_count": 20,
   "metadata": {},
   "outputs": [],
   "source": [
    "indices = set([i for i in range(data.shape[1])])\n",
    "for i in range(len(data)):\n",
    "    true_label = np.argmax(label[i])\n",
    "    style = style_names[true_label]\n",
    "    true_elements = indices_style[style]\n",
    "    list_difference = list(indices - true_elements)\n",
    "    representation_values[list_difference,true_label] += data[i][list_difference]\n",
    "    representation_occurences[list_difference,true_label] += data[i][list_difference] > 0\n"
   ]
  },
  {
   "cell_type": "code",
   "execution_count": 22,
   "metadata": {},
   "outputs": [
    {
     "data": {
      "text/plain": [
       "array([[  0.        ,   7.93312337,  10.82527051,  11.51501596],\n",
       "       [  0.        ,   5.68943088,   2.37646742,   7.74058412],\n",
       "       [  0.        ,   6.04744983,  17.04655463,   3.74231929],\n",
       "       [ 24.46317827,   0.        ,  13.73966838,   8.74879582],\n",
       "       [  5.70058899,   0.        ,   1.77821945,   2.43604083],\n",
       "       [  0.92687266,   0.        ,   2.9917349 ,   2.89418342],\n",
       "       [  5.52238376,  24.25793812,   0.        , 648.55827139],\n",
       "       [  2.57628921,   3.87499732,   0.        , 287.25203945],\n",
       "       [  7.60536904,   6.3189718 ,   0.        ,  71.92510768],\n",
       "       [170.73663795, 130.82209604,   0.        ,   0.        ],\n",
       "       [ 18.15759289,  50.81673783,   0.        ,   0.        ],\n",
       "       [  9.22777823,  14.95262958,   0.        ,   0.        ],\n",
       "       [  4.38107014,   7.02922674,  67.52791598,   0.        ],\n",
       "       [  2.53558218,   1.6680401 ,  14.96255521,   0.        ]])"
      ]
     },
     "execution_count": 22,
     "metadata": {},
     "output_type": "execute_result"
    }
   ],
   "source": [
    "representation_values"
   ]
  },
  {
   "cell_type": "code",
   "execution_count": null,
   "metadata": {},
   "outputs": [],
   "source": []
  }
 ],
 "metadata": {
  "kernelspec": {
   "display_name": "Python 3.7.6 64-bit ('base': conda)",
   "language": "python",
   "name": "python37664bitbasecondab003be3b3cc14792a70909b28513a836"
  },
  "language_info": {
   "codemirror_mode": {
    "name": "ipython",
    "version": 3
   },
   "file_extension": ".py",
   "mimetype": "text/x-python",
   "name": "python",
   "nbconvert_exporter": "python",
   "pygments_lexer": "ipython3",
   "version": "3.7.6"
  }
 },
 "nbformat": 4,
 "nbformat_minor": 4
}
