{
 "cells": [
  {
   "cell_type": "code",
   "execution_count": 1,
   "metadata": {},
   "outputs": [
    {
     "name": "stderr",
     "output_type": "stream",
     "text": [
      "Using TensorFlow backend.\n"
     ]
    }
   ],
   "source": [
    "import argparse, csv\n",
    "from tensorflow import keras\n",
    "from tensorflow.python.keras.models import model_from_json\n",
    "from keras.utils import to_categorical\n",
    "import pandas as pd\n",
    "\n",
    "from tools.metadata_tools import *"
   ]
  },
  {
   "cell_type": "code",
   "execution_count": 2,
   "metadata": {},
   "outputs": [],
   "source": [
    "val = '../Results/json_detection'\n",
    "train = '../Results/json_detection/train'\n",
    "threshold = 0.001\n",
    "\n",
    "matrix_metadata = metadata_to_matrix(val, \"json\")\n",
    "val_data = matrix_metadata[:,:14].astype(np.float32)\n",
    "val_label = to_categorical(matrix_metadata[:,14].astype(np.float32).astype(np.int8))\n",
    "val_data[val_data < threshold] = 0\n",
    "val_data[val_data > threshold] = 1\n",
    "val_data = val_data.astype(np.uint8)\n",
    "\n",
    "matrix_metadata = metadata_to_matrix(train, \"json\")\n",
    "train_data = matrix_metadata[:,:14].astype(np.float32)\n",
    "train_label = to_categorical(matrix_metadata[:,14].astype(np.float32).astype(np.int8))\n",
    "train_data[train_data < threshold] = 0\n",
    "train_data[train_data >= threshold] = 1\n",
    "train_data = train_data.astype(np.uint8)\n",
    "\n",
    "from sklearn.model_selection import train_test_split\n",
    "\n",
    "train_data, test_data, train_label, test_label = train_test_split(train_data, train_label, train_size = 0.8)"
   ]
  },
  {
   "cell_type": "code",
   "execution_count": 3,
   "metadata": {},
   "outputs": [],
   "source": [
    "from monumai.monument import Monument\n",
    "arch_el_names = [el for sublist in list(Monument.ELEMENT_DIC.values()) for el in sublist]\n",
    "style_names = Monument.STYLES_HOTONE_ENCODE"
   ]
  },
  {
   "cell_type": "code",
   "execution_count": 4,
   "metadata": {},
   "outputs": [],
   "source": [
    "objectProperties = [\"isTypicalOfStyle\", \"hasArchElement\", \"exhibitsArchStyle\"]\n",
    "\n",
    "import csv\n",
    "with open('train.txt', 'w') as tsvfile:\n",
    "    writer = csv.writer(tsvfile, delimiter='\\t')\n",
    "    for i in range(len(arch_el_names)):\n",
    "        for style, el in Monument.TRUE_ELEMENT_DIC.items():\n",
    "            if style == 'baroque':\n",
    "                style = 'B'\n",
    "            if style == 'hispanic-muslim':\n",
    "                style = 'M'\n",
    "            if style == 'renaissance':\n",
    "                style = 'R'\n",
    "            if style == 'gothic':\n",
    "                style = 'G'\n",
    "            if arch_el_names[i] in el:\n",
    "                writer.writerow([arch_el_names[i], objectProperties[0], style])\n",
    "                continue\n",
    "    for i in range(len(train_data)):\n",
    "        line = train_data[i]\n",
    "        for k in range(len(line)):\n",
    "            if line[k]:\n",
    "                writer.writerow([i, objectProperties[1], arch_el_names[k]])\n",
    "    for i in range(len(val_data)):\n",
    "        line = val_data[i]\n",
    "        for k in range(len(line)):\n",
    "            if line[k]:\n",
    "                writer.writerow([i + len(train_data), objectProperties[1], arch_el_names[k]])  \n",
    "    for i in range(len(test_data)):\n",
    "        line = test_data[i]\n",
    "        for k in range(len(line)):\n",
    "            if line[k]:\n",
    "                writer.writerow([i + len(train_data) + len(val_data), objectProperties[1], arch_el_names[k]])            \n",
    "    for i in range(len(train_data)):\n",
    "        k = np.argmax(train_label[i])\n",
    "        writer.writerow([i , objectProperties[2], style_names[k]])\n"
   ]
  },
  {
   "cell_type": "code",
   "execution_count": 5,
   "metadata": {},
   "outputs": [],
   "source": [
    "with open('val.txt', 'w') as tsvfile:\n",
    "    writer = csv.writer(tsvfile, delimiter='\\t')       \n",
    "    for i in range(len(val_data)):\n",
    "        k = np.argmax(val_label[i])\n",
    "        writer.writerow([i + len(train_data), objectProperties[2], style_names[k]])\n",
    "with open('test.txt', 'w') as tsvfile:\n",
    "    writer = csv.writer(tsvfile, delimiter='\\t')       \n",
    "    for i in range(len(test_data)):\n",
    "        k = np.argmax(test_label[i])\n",
    "        writer.writerow([i + len(train_data) + len(val_data) , objectProperties[2], style_names[k]])"
   ]
  },
  {
   "cell_type": "code",
   "execution_count": 6,
   "metadata": {},
   "outputs": [],
   "source": [
    "val = '../Results/json_detection'\n",
    "train = '../Results/json_detection/train'\n",
    "\n",
    "matrix_metadata = metadata_to_matrix(val, \"json\")\n",
    "val_data = matrix_metadata[:,:14].astype(np.float32)\n",
    "val_label = to_categorical(matrix_metadata[:,14].astype(np.float32).astype(np.int8))\n",
    "\n",
    "matrix_metadata = metadata_to_matrix(train, \"json\")\n",
    "train_data = matrix_metadata[:,:14].astype(np.float32)\n",
    "train_label = to_categorical(matrix_metadata[:,14].astype(np.float32).astype(np.int8))"
   ]
  },
  {
   "cell_type": "code",
   "execution_count": 8,
   "metadata": {},
   "outputs": [],
   "source": [
    "import csv\n",
    "import numpy as np\n",
    "with open('sam_tab_train.txt', 'w') as tsvfile:\n",
    "    writer = csv.writer(tsvfile, delimiter='\\t')\n",
    "    header = arch_el_names + style_names\n",
    "    writer.writerow(header)\n",
    "    for i in range(len(train_data)):\n",
    "        writer.writerow(np.concatenate((train_data[i],train_label[i])))"
   ]
  },
  {
   "cell_type": "code",
   "execution_count": null,
   "metadata": {},
   "outputs": [],
   "source": []
  }
 ],
 "metadata": {
  "kernelspec": {
   "display_name": "Python 3.7.6 64-bit ('base': conda)",
   "language": "python",
   "name": "python37664bitbasecondab003be3b3cc14792a70909b28513a836"
  },
  "language_info": {
   "codemirror_mode": {
    "name": "ipython",
    "version": 3
   },
   "file_extension": ".py",
   "mimetype": "text/x-python",
   "name": "python",
   "nbconvert_exporter": "python",
   "pygments_lexer": "ipython3",
   "version": "3.7.6"
  }
 },
 "nbformat": 4,
 "nbformat_minor": 4
}
